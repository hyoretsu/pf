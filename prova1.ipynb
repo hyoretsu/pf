{
 "cells": [
  {
   "cell_type": "markdown",
   "metadata": {},
   "source": [
    "## Prova 1\n"
   ]
  },
  {
   "cell_type": "markdown",
   "metadata": {},
   "source": [
    "### 1) Listas e tuplas\n",
    "\n",
    "Sobre listas em Haskell, marque a(s) afirmativa(s) correta(s):\n",
    "\n",
    "[x] Toda construção recursiva de lista pode ser traduzida para construção com compreensão (tal que), mas o contrário nem sempre é possível.\n",
    "\n",
    "[] Quando uma função recebe uma lista como parâmetro, esse parâmetro pode ser escrito como uma lista vazia ([]) ou no formato (x:xs).\n",
    "\n",
    "[] Uma tupla em que todos os elementos dela são do mesmo tipo é a mesma coisa que uma lista com elementos desse mesmo tipo.\n"
   ]
  },
  {
   "cell_type": "markdown",
   "metadata": {},
   "source": [
    "### 2) Funções\n",
    "\n",
    "Sobre funções em Haskell, marque a(s) afirmativa(s) correta(s):\n",
    "\n",
    "[x] Por padrão, duas funções não podem ser comparadas usando o operador \"==\".\n",
    "\n",
    "[x] O operador \"=>\" serve para adicionar uma restrição sobre os parâmetros da função em sua definição.\n",
    "\n",
    "[] O tipo funcional \"(Integer, Integer) => Integer\" é o mesmo que o tipo funcional \"Integer -> Integer -> Integer ->\".\n"
   ]
  },
  {
   "cell_type": "markdown",
   "metadata": {},
   "source": [
    "### 3) Declaração de tipos\n",
    "\n",
    "Escreva um tipo válido para cada um dos valores abaixo\n",
    "\n",
    "x1 = (True, 'c')\n",
    "\n",
    "x2 = [1, 2, 3]\n",
    "\n",
    "x3 = [(+), (-)]\n",
    "\n",
    "x4 = \\a -> a + 1\n"
   ]
  },
  {
   "cell_type": "code",
   "execution_count": null,
   "metadata": {},
   "outputs": [],
   "source": [
    "x1 :: (Bool, Char)\n",
    "x2 :: [Integer]\n",
    "x3 :: (Num a) => [a -> a -> a]\n",
    "x4 :: Integer -> Integer"
   ]
  },
  {
   "cell_type": "markdown",
   "metadata": {},
   "source": [
    "### 4) Declaração de valores\n",
    "\n",
    "Escreva valores/definições que tenham os tipos abaixo (a definição em si não importa, desde que seja do tipo correto).\n",
    "\n",
    "x5 :: [[Double]]\n",
    "\n",
    "x6 :: ([Char], Integer)\n",
    "\n",
    "x7 :: (a, b) -> (b, a)\n",
    "\n",
    "x8 :: a -> (a -> b) -> b\n"
   ]
  },
  {
   "cell_type": "code",
   "execution_count": null,
   "metadata": {},
   "outputs": [],
   "source": [
    "x5 = [[1.25], [2.5]]\n",
    "x6 = (['o', 'l', 'a'], 123)\n",
    "x7 (a, b) = (b, a)\n",
    "x8 a func = func a"
   ]
  },
  {
   "cell_type": "markdown",
   "metadata": {},
   "source": [
    "### 5) Construção de listas\n",
    "\n",
    "Escreva uma função `arePairs :: [Integer] -> [Bool]` que retorna uma lista em que cada elemento é `True` se o elemento da lista original da mesma posição é par, ou `False` caso contrário. Exemplo: `arePairs [1, -2, 4] = [False, True, True]`.\n"
   ]
  },
  {
   "cell_type": "code",
   "execution_count": null,
   "metadata": {},
   "outputs": [],
   "source": [
    "arePairs (x : xs) = if null xs then [even x] else even x : arePairs xs"
   ]
  },
  {
   "cell_type": "markdown",
   "metadata": {},
   "source": [
    "### 6) Funções recursivas\n",
    "\n",
    "Crie uma definição recursiva para a função `length :: [a] -> Integer`, que calcula o comprimento de uma lista. Use encaixe de padrões para o caso base e o caso recursivo.\n"
   ]
  },
  {
   "cell_type": "code",
   "execution_count": null,
   "metadata": {},
   "outputs": [],
   "source": [
    "length :: [a] -> Integer\n",
    "length [] = 0\n",
    "length (_ : xs) = 1 + Main.length xs"
   ]
  }
 ],
 "metadata": {
  "kernelspec": {
   "display_name": "Haskell",
   "language": "haskell",
   "name": "haskell"
  },
  "language_info": {
   "name": "haskell"
  }
 },
 "nbformat": 4,
 "nbformat_minor": 2
}
