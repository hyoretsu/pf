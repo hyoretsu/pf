{
 "cells": [
  {
   "cell_type": "markdown",
   "metadata": {},
   "source": [
    "### 1. Escreva uma função que funcione como uma função \"meio\" ou \"mid\" do Excel: ela recebe 3 parâmetros, uma `String` e dois números (digamos x e y) e retorna a substring que começa no primeiro índice (o primeiro número, x) e contém y caracteres. A primeira posição na lista tem índice 1 (um). Casos inválidas retornam a lista vazia (por exemplo, números negativos ou início fora do tamanho da lista). Se a lista contiver menos caracteres que o solicitado deve ser retornado o que for possível.\n",
    "\n",
    "Ex:\n",
    "\n",
    "```haskell\n",
    "meio \"ver isso\" 5 4 -- \"isso\"\n",
    "meio \"ver isso tambem\" 1 3 -- \"ver\"\n",
    "meio \"ver isso tambem\" 13 10 -- \"bem\"\n",
    "meio \"ver isso tambem\" 130 (-4) -- \"\"\n",
    "```\n"
   ]
  },
  {
   "cell_type": "code",
   "execution_count": 1,
   "metadata": {},
   "outputs": [],
   "source": [
    "meio :: String -> Int -> Int -> String\n",
    "meio str start length\n",
    "  | start > Prelude.length str = error \"Início maior que o tamanho da lista\"\n",
    "  | length < 0 || start < 0 = error \"Não existe posição nem tamanho negativo\"\n",
    "  | otherwise = take length (drop (start - 1) str)\n",
    "\n",
    "-- meio _ _ _ = \"\"\n",
    "-- meio str 1 n = take n str\n",
    "-- meio str i n =\n",
    "--  | i > 1 = meio (tail str) (i - 1) n"
   ]
  },
  {
   "cell_type": "markdown",
   "metadata": {},
   "source": [
    "### 2. Escreva uma função localizar, que indica a posição de início de uma `String` dentro de outra. Caso não seja encontrada ou a String de busca seja vazia, deve ser retornado o valor 0 (zero). A contagem das posições começa no valor 1 para o primeiro caractere. Deve ser retornada a posição da primeira ocorrência, se houver mais de uma.\n",
    "\n",
    "Ex:\n",
    "\n",
    "```haskell\n",
    "localizar \"abc\" \"xyz12abrt\" -- erro\n",
    "localizar \"abc\" \"aaabrsabcfr\" -- 7\n",
    "localizar \"aab\" \"aacrabceaabc\" -- 9\n",
    "localizar \"\" \"aacrabceaabc\" -- 0\n",
    "```\n"
   ]
  },
  {
   "cell_type": "code",
   "execution_count": 2,
   "metadata": {},
   "outputs": [],
   "source": [
    "localizar :: String -> String -> Int\n",
    "localizar subStr str\n",
    "  | take (length subStr) str == subStr = 0\n",
    "  | otherwise = localizarAux subStr (tail str) 1\n",
    "\n",
    "localizarAux :: [Char] -> [Char] -> Int -> Int\n",
    "localizarAux subStr \"\" i = error \"Sub-string não encontrada.\"\n",
    "localizarAux subStr str i\n",
    "  | take (length subStr) str == subStr = i + 1\n",
    "  | otherwise = localizarAux subStr (tail str) i + 1\n",
    "\n",
    "-- localizar substr str = loc 1 substr str\n",
    "-- loc _ [] _ = 1\n",
    "-- loc i substr [] = 0\n",
    "-- loc i substr (x : xs) = if substr == \"take n str\" then i else loc (i + 1) substr xs where n = length substr"
   ]
  },
  {
   "cell_type": "markdown",
   "metadata": {},
   "source": [
    "### 3. Uma fita infinita de papel pode ser representada por uma lista de caracteres. Esta fita possui uma cabeça de leitura/escrita que lê ou escreve na posição atual da fita. Esta fita pode ser lida ou escrita (alterada) pelos seguintes comandos:\n",
    "\n",
    "### - ParaFrente: recebe um inteiro `N` como parâmetro e move a posição de leitura N posições para frente;\n",
    "\n",
    "### - ParaTras: recebe um inteiro `N` como parâmetro e move ap osição de leitura N posições para trás;\n",
    "\n",
    "### - Escreva: recebe um caractere como parâmetro e escreve o caractere naquela posição da fita, substituindo o caractere que estiver naquela posição.\n",
    "\n",
    "### A fita começa na posição do número 1. Não é preciso tratar o caso da fita se mover para uma posição inválida (menor que 1).\n"
   ]
  },
  {
   "cell_type": "code",
   "execution_count": 3,
   "metadata": {},
   "outputs": [],
   "source": [
    "type Fita = String\n",
    "\n",
    "data Comando\n",
    "  = ParaFrente Int\n",
    "  | ParaTras Int\n",
    "  | Escreva Char\n",
    "  deriving (Show, Eq)"
   ]
  },
  {
   "cell_type": "markdown",
   "metadata": {},
   "source": [
    "#### a) Escreva uma função que diga a posição final da fila, após receber uma lista de comandos.\n",
    "\n",
    "Ex:\n",
    "\n",
    "```haskell\n",
    "posicaoFinal \"abcdefghijklmno\" [ParaFrente 5, Escreva 'x', ParaFrente 1, Escreva 'y', ParaTras 1] -- 6\n",
    "posicaoFinal \"abcdefghijklmno\" [ParaFrente 5, Escreva 'x', ParaFrente 1, Escreva 'y'] -- 7\n",
    "posicaoFinal \"abcdefghijklmno\" [ParaFrente 5, Escreva 'x', ParaFrente 1] -- 7\n",
    "posicaoFinal \"abcdefghijklmno\" [] -- 1\n",
    "```\n"
   ]
  },
  {
   "cell_type": "code",
   "execution_count": null,
   "metadata": {},
   "outputs": [],
   "source": [
    "posicaoFinal :: Fita -> [Comando] -> Int"
   ]
  },
  {
   "cell_type": "markdown",
   "metadata": {},
   "source": [
    "#### b) Escreva uma função que, dada uma lista de comandos, retorne o caractere da posição final da cabeça de leitura, após comandos.\n",
    "\n",
    "Ex:\n",
    "\n",
    "```haskell\n",
    "posicaoFinal \"abcdefghijklmno\" [ParaFrente 5, Escreva 'x', ParaFrente 1, Escreva 'y', ParaTras 1] -- 'x'\n",
    "posicaoFinal \"abcdefghijklmno\" [ParaFrente 5, Escreva 'x', ParaFrente 1, Escreva 'y'] -- 'y'\n",
    "posicaoFinal \"abcdefghijklmno\" [ParaFrente 5, Escreva 'x', ParaFrente 1] -- 'g'\n",
    "posicaoFinal \"abcdefghijklmno\" [] -- 'a'\n",
    "```\n"
   ]
  },
  {
   "cell_type": "code",
   "execution_count": null,
   "metadata": {},
   "outputs": [],
   "source": [
    "interprete :: Fita -> [Comando] -> Char"
   ]
  },
  {
   "cell_type": "markdown",
   "metadata": {},
   "source": [
    "#### c) Escreva a mesma função anterior, mas que mostre toda a String após a interpretação.\n",
    "\n",
    "Ex:\n",
    "\n",
    "```haskell\n",
    "aplicar \"abcdefghijklmno\" [] -- \"abcdefghijklmno\"\n",
    "aplicar \"abcdefghijklmno\" [ParaFrente 5, Escreva 'x', ParaFrente 1] -- \"abcdexghijklmno\"\n",
    "```\n"
   ]
  },
  {
   "cell_type": "code",
   "execution_count": null,
   "metadata": {},
   "outputs": [],
   "source": [
    "aplicar :: Fita -> [Comando] -> Fita"
   ]
  }
 ],
 "metadata": {
  "kernelspec": {
   "display_name": "Haskell",
   "language": "haskell",
   "name": "haskell"
  },
  "language_info": {
   "codemirror_mode": "ihaskell",
   "file_extension": ".hs",
   "mimetype": "text/x-haskell",
   "name": "haskell",
   "pygments_lexer": "Haskell",
   "version": "9.6.4"
  }
 },
 "nbformat": 4,
 "nbformat_minor": 2
}
