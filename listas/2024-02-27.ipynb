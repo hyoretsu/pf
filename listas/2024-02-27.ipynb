{
 "cells": [
  {
   "cell_type": "markdown",
   "metadata": {},
   "source": [
    "### 1. Transforme a compreensão `[f x | x <- xs, p x]` em uma definição usando `map` e `filter`.\n"
   ]
  },
  {
   "cell_type": "code",
   "execution_count": null,
   "metadata": {
    "vscode": {
     "languageId": "haskell"
    }
   },
   "outputs": [],
   "source": [
    "mapFilter :: (a -> b) -> (a -> Bool) -> [a] -> [b]\n",
    "mapFilter f p [] = []\n",
    "mapFilter f p (x : xs) = map f (filter p xs)"
   ]
  }
 ],
 "metadata": {
  "language_info": {
   "name": "python"
  }
 },
 "nbformat": 4,
 "nbformat_minor": 2
}
