{
 "cells": [
  {
   "cell_type": "markdown",
   "metadata": {},
   "source": [
    "-   ## Definições recursivas\n",
    "\n",
    "### 1. Crie sua própria definição para as seguintes funções da biblioteca padrão, usando definição com recorrência:\n",
    "\n",
    "> a. `sum :: Num a => [a] -> a`\n"
   ]
  },
  {
   "cell_type": "code",
   "execution_count": null,
   "metadata": {},
   "outputs": [],
   "source": [
    "sum :: Num a => [a] -> a\n",
    "sum x:xs\n",
    "    | not null xs = x + sum xs\n",
    "    | otherwise   = x"
   ]
  },
  {
   "cell_type": "markdown",
   "metadata": {},
   "source": [
    "> b. `take :: Int -> [a] -> [a]`\n"
   ]
  },
  {
   "cell_type": "code",
   "execution_count": null,
   "metadata": {},
   "outputs": [],
   "source": [
    "take :: Int -> [a] -> [a]\n",
    "take n x:xs\n",
    "    | n > 1  = x:(take (n - 1) xs)\n",
    "    | n == 1 = x"
   ]
  },
  {
   "cell_type": "markdown",
   "metadata": {},
   "source": [
    "> c. `last :: [a] -> a`\n"
   ]
  },
  {
   "cell_type": "code",
   "execution_count": null,
   "metadata": {},
   "outputs": [],
   "source": [
    "last :: [a] -> a\n",
    "last x:xs\n",
    "    | not null xs = last xs\n",
    "    | otherwise   = x"
   ]
  },
  {
   "cell_type": "markdown",
   "metadata": {},
   "source": [
    "### 2. Usando definição com recorrência, escreva uma função `sumdown :: Int -> Int` que retorna a soma dos inteiros não-negativos de um dado valor até zero. Por exemplo, `sumdown 3` deve retornar o resultado `3 + 2 + 1 + 0 = 6`.\n"
   ]
  },
  {
   "cell_type": "code",
   "execution_count": null,
   "metadata": {},
   "outputs": [],
   "source": [
    "sumdown :: Int -> Int\n",
    "sumdown x\n",
    "    | x > 0  = x + sumdown (x - 1)\n",
    "    | x == 0 = 0"
   ]
  },
  {
   "cell_type": "markdown",
   "metadata": {},
   "source": [
    "### 3. Considere a função `` divisores n = [x | x <- [1..n], n `mod` x == 0] `` que lista todos os divisores de um número n. Reescreva-a de forma que não use mais um construtor de lista com compreensão (tal que), e em vez disso use uma função recursiva auxiliar.\n"
   ]
  },
  {
   "cell_type": "code",
   "execution_count": null,
   "metadata": {},
   "outputs": [],
   "source": [
    "divisores x n:ns =\n",
    "    | x `mod` n == 0 = if null ns then x else n:(divisores x ns)\n",
    "    | otherwise      = divisores x ns\n",
    "divisores n = divisores n [1..n]"
   ]
  },
  {
   "cell_type": "markdown",
   "metadata": {},
   "source": [
    "### 4. Defina uma função recursiva `euclid :: Int -> Int -> Int` que implementa o algoritmo de Euclides para calcular o MDC de dois inteiros não-negativos:\n",
    "\n",
    "###\n",
    "\n",
    "### - Se os dois números são iguais, o resultado é este valor;\n",
    "\n",
    "### - Caso contrário, o resultado é o MDC entre o menor dos dois números e o número maior subtraído do menor. Por exemplo: `euclid 6 15 = euclid 6 9 = euclid 6 3 = euclid 3 3 = 3`.\n"
   ]
  },
  {
   "cell_type": "code",
   "execution_count": null,
   "metadata": {},
   "outputs": [],
   "source": [
    "euclid :: Int -> Int -> Int\n",
    "euclid x y\n",
    "    | x > y  = euclid (x - y) y\n",
    "    | y > x  = euclid x (y - x)\n",
    "    | x == y = x"
   ]
  },
  {
   "cell_type": "markdown",
   "metadata": {},
   "source": [
    "### 5. Usando definição com recorrência, escreva uma função `merge :: Ord a => [a] -> [a] -> [a]` que junta duas listas ordenadas e retorna uma única lista ordenada. Por exemplo: `merge [2, 5, 6] [1, 3, 4] = [1, 2, 3, 4, 5, 6]`\n"
   ]
  },
  {
   "cell_type": "code",
   "execution_count": null,
   "metadata": {},
   "outputs": [],
   "source": [
    "merge :: Ord a => [a] -> [a] -> [a]\n",
    "merge (x:xs) (y:ys)\n",
    "    | x < y     = x:(merge xs y:ys)\n",
    "    | y < x     = y:(merge x:xs ys)\n",
    "    | x == null = y\n",
    "    | y == null = x\n"
   ]
  }
 ],
 "metadata": {
  "kernelspec": {
   "display_name": "Haskell",
   "language": "haskell",
   "name": "haskell"
  },
  "language_info": {
   "name": "haskell"
  }
 },
 "nbformat": 4,
 "nbformat_minor": 2
}
