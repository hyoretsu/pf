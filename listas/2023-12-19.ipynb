{
 "cells": [
  {
   "cell_type": "markdown",
   "metadata": {},
   "source": [
    "-   ## Tipos\n",
    "\n",
    "### 1. Escreva o tipo dos seguintes valores:\n",
    "\n",
    "> a. `['a', 'b', 'c']`\n",
    "\n",
    "`[Char]`\n",
    "\n",
    "> b. `('a', 'b', 'c')`\n",
    "\n",
    "`(Char, Char, Char)`\n",
    "\n",
    "> c. `[(False, 'O'), (True, '1')]`\n",
    "\n",
    "`[(Bool, Char)]`\n",
    "\n",
    "> d. `([False, True], ['0', '1'])`\n",
    "\n",
    "`([Bool], [Char])`\n",
    "\n",
    "> e. `[tail,  init, reverse]`\n",
    "\n",
    "`[[a] -> [a]]`\n"
   ]
  },
  {
   "cell_type": "markdown",
   "metadata": {},
   "source": [
    "### 2. Escreva definições para os tipos abaixo (a definição em si não importa, desde que seja do tipo correto).\n",
    "\n",
    "> a.\n"
   ]
  },
  {
   "cell_type": "code",
   "execution_count": null,
   "metadata": {},
   "outputs": [],
   "source": [
    "bools :: [Bool]"
   ]
  },
  {
   "cell_type": "code",
   "execution_count": null,
   "metadata": {},
   "outputs": [],
   "source": [
    "bools = [True, False]"
   ]
  },
  {
   "cell_type": "markdown",
   "metadata": {},
   "source": [
    "> b.\n"
   ]
  },
  {
   "cell_type": "code",
   "execution_count": null,
   "metadata": {},
   "outputs": [],
   "source": [
    "nums :: [[Int]]"
   ]
  },
  {
   "cell_type": "code",
   "execution_count": null,
   "metadata": {},
   "outputs": [],
   "source": [
    "nums = [[1, 2, 3], [4, 5, 6], [7, 8, 9]]"
   ]
  },
  {
   "cell_type": "markdown",
   "metadata": {},
   "source": [
    "> c.\n"
   ]
  },
  {
   "cell_type": "code",
   "execution_count": null,
   "metadata": {},
   "outputs": [],
   "source": [
    "add :: Int -> Int -> Int -> Int"
   ]
  },
  {
   "cell_type": "code",
   "execution_count": null,
   "metadata": {},
   "outputs": [],
   "source": [
    "add x y z = x + y + z"
   ]
  },
  {
   "cell_type": "markdown",
   "metadata": {},
   "source": [
    "> d.\n"
   ]
  },
  {
   "cell_type": "code",
   "execution_count": null,
   "metadata": {},
   "outputs": [],
   "source": [
    "copy :: a -> (a, a)"
   ]
  },
  {
   "cell_type": "code",
   "execution_count": null,
   "metadata": {},
   "outputs": [],
   "source": [
    "copy value = (value, value)"
   ]
  },
  {
   "cell_type": "markdown",
   "metadata": {},
   "source": [
    "> e.\n"
   ]
  },
  {
   "cell_type": "code",
   "execution_count": null,
   "metadata": {},
   "outputs": [],
   "source": [
    "apply :: (a -> b) -> a -> b"
   ]
  },
  {
   "cell_type": "code",
   "execution_count": null,
   "metadata": {},
   "outputs": [],
   "source": [
    "apply f x = f x"
   ]
  },
  {
   "cell_type": "markdown",
   "metadata": {},
   "source": [
    "### 3. Escreva o tipo das funções abaixo. Inclua as restrições de classe (usando “=>” no tipo da função) se a definição usa algum operador que só existe para classes específicas (por exemplo, “==” ou “+”).\n",
    "\n",
    "> a.\n"
   ]
  },
  {
   "cell_type": "code",
   "execution_count": null,
   "metadata": {},
   "outputs": [],
   "source": [
    "second xs = head (tail xs)"
   ]
  },
  {
   "cell_type": "code",
   "execution_count": null,
   "metadata": {},
   "outputs": [],
   "source": [
    "second :: [a] -> a"
   ]
  },
  {
   "cell_type": "markdown",
   "metadata": {},
   "source": [
    "> b.\n"
   ]
  },
  {
   "cell_type": "code",
   "execution_count": null,
   "metadata": {},
   "outputs": [],
   "source": [
    "swap (x, y) = (y, x)"
   ]
  },
  {
   "cell_type": "code",
   "execution_count": null,
   "metadata": {},
   "outputs": [],
   "source": [
    "swap :: (a, b) -> (b, a)"
   ]
  },
  {
   "cell_type": "markdown",
   "metadata": {},
   "source": [
    "> c.\n"
   ]
  },
  {
   "cell_type": "code",
   "execution_count": null,
   "metadata": {},
   "outputs": [],
   "source": [
    "pair x y = (x, y)"
   ]
  },
  {
   "cell_type": "code",
   "execution_count": null,
   "metadata": {},
   "outputs": [],
   "source": [
    "pair :: a -> b -> (a, b)"
   ]
  },
  {
   "cell_type": "markdown",
   "metadata": {},
   "source": [
    "> d.\n"
   ]
  },
  {
   "cell_type": "code",
   "execution_count": null,
   "metadata": {},
   "outputs": [],
   "source": [
    "double x = x * 2"
   ]
  },
  {
   "cell_type": "code",
   "execution_count": null,
   "metadata": {},
   "outputs": [],
   "source": [
    "double :: Num a => a -> a"
   ]
  },
  {
   "cell_type": "markdown",
   "metadata": {},
   "source": [
    "> e.\n"
   ]
  },
  {
   "cell_type": "code",
   "execution_count": null,
   "metadata": {},
   "outputs": [],
   "source": [
    "palindrome xs = reverse xs == xs"
   ]
  },
  {
   "cell_type": "code",
   "execution_count": null,
   "metadata": {},
   "outputs": [],
   "source": [
    "palindrome :: Eq a => [a] -> Bool"
   ]
  },
  {
   "cell_type": "markdown",
   "metadata": {},
   "source": [
    "> f.\n"
   ]
  },
  {
   "cell_type": "code",
   "execution_count": null,
   "metadata": {},
   "outputs": [],
   "source": [
    "twice f x = f (f x)"
   ]
  },
  {
   "cell_type": "code",
   "execution_count": null,
   "metadata": {},
   "outputs": [],
   "source": [
    "twice :: (a -> a) -> a -> a -- '()' porque se não isso seria uma função de 3 parâmetros"
   ]
  },
  {
   "cell_type": "markdown",
   "metadata": {},
   "source": [
    "-   ## Construção de funções\n",
    "\n",
    "### 1. Usando funções da biblioteca padrão, defina a função `f :: [a] -> ([a], [a])` que pegue uma lista de tamanho par e divida ela em dois pedaços do mesmo tamanho. Por exemplo: `f [1, 2, 3, 4] = ([1, 2], [3, 4])`.\n"
   ]
  },
  {
   "cell_type": "code",
   "execution_count": null,
   "metadata": {},
   "outputs": [],
   "source": [
    "f :: [a] -> ([a], [a])\n",
    "-- f xs\n",
    "--   | odd len = ([], [])\n",
    "--   | even len = aux xs ([], [])\n",
    "--   where\n",
    "--     len = length xs\n",
    "--     aux arr (first, second) =\n",
    "--       if null remainder\n",
    "--         then (first, second)\n",
    "--         else aux remainder (first ++ [head arr], second ++ [head (tail arr)])\n",
    "--       where\n",
    "--         remainder = tail (tail arr)\n",
    "-- f xs = (take n xs, drop n xs) where n = length xs `div` 2\n",
    "f xs = splitAt n xs where n = length xs `div` 2"
   ]
  },
  {
   "cell_type": "markdown",
   "metadata": {},
   "source": [
    "### 2. Defina a função `terceiro :: [a] -> a` que retorne o terceiro elemento de uma lista de tamanho ≥ 3, usando apenas:\n",
    "\n",
    "### a. As funções e head e tail;\n",
    "\n",
    "### b. O indexador !!;\n",
    "\n",
    "### c. Encaixe de padrões.\n"
   ]
  },
  {
   "cell_type": "code",
   "execution_count": null,
   "metadata": {},
   "outputs": [],
   "source": [
    "terceiro :: [a] -> a\n",
    "terceiro xs\n",
    "  | len == 3 = xs !! 2\n",
    "  | len > 3 = head (tail (tail xs))\n",
    "  where\n",
    "    len = length xs\n",
    "terceiro (a : b : c : xs) = c"
   ]
  },
  {
   "cell_type": "markdown",
   "metadata": {},
   "source": [
    "### 3. Considere uma função `safetail :: [a] -> [a]` que se comporta da mesma forma que a `tail`, exceto que quando o argumento é uma lista vazia, ela retorna outra lista vazia em vez de dar um erro. Chamando apenas as funções `tail` comum e a `null :: [a] -> Bool` (que diz de uma lista é vazia ou não), defina a função `safetail` usando:\n",
    "\n",
    "### a. Uma expressão condicional (if-then-else);\n",
    "\n",
    "### b. Guardas;\n",
    "\n",
    "### c. Encaixe de padrões.\n"
   ]
  },
  {
   "cell_type": "code",
   "execution_count": null,
   "metadata": {},
   "outputs": [],
   "source": [
    "safetail :: [a] -> [a]\n",
    "-- Guardas\n",
    "-- safetail arr\n",
    "--   | null arr = []\n",
    "--   | otherwise = tail arr\n",
    "\n",
    "-- Pattern matching\n",
    "-- safetail [] = []\n",
    "-- safetail (x : xs) = xs\n",
    "\n",
    "-- Expressão condicional\n",
    "safetail arr =\n",
    "  if null arr\n",
    "    then []\n",
    "    else tail arr"
   ]
  },
  {
   "cell_type": "markdown",
   "metadata": {},
   "source": [
    "-   ## Construção de listas\n",
    "\n",
    "### 1. Usando notação em compreensão para listas (tal que), escreva uma função `f :: Int -> Int` que calcule o valor de 1² + 2² + … + n² dado um inteiro n maior que 1.\n"
   ]
  },
  {
   "cell_type": "code",
   "execution_count": null,
   "metadata": {},
   "outputs": [],
   "source": [
    "f :: Int -> Int\n",
    "f n = sum [x ^ 2 | x <- [1 .. n]]"
   ]
  },
  {
   "cell_type": "markdown",
   "metadata": {},
   "source": [
    "### 2. Escreva uma função `grid :: Int -> Int -> [(Int, Int)]` que liste todas as células (x, y) de uma grid de tamanho m x n, onde 1 ≤ x ≤ m e 1 ≤ y ≤ n.\n"
   ]
  },
  {
   "cell_type": "code",
   "execution_count": null,
   "metadata": {},
   "outputs": [],
   "source": [
    "grid :: Int -> Int -> [(Int, Int)]\n",
    "grid m n = [(i, j) | i <- [1 .. m], j <- [1 .. n]]"
   ]
  },
  {
   "cell_type": "markdown",
   "metadata": {},
   "source": [
    "### 3. Escreva uma função `replicar :: Int -> a -> [a]` que repita um elemento um dado número de vezes.\n"
   ]
  },
  {
   "cell_type": "code",
   "execution_count": null,
   "metadata": {},
   "outputs": [],
   "source": [
    "replicar :: Int -> a -> [a]\n",
    "replicar n value =\n",
    "  if n == 0\n",
    "    then []\n",
    "    else value : replicar (n - 1) value"
   ]
  },
  {
   "cell_type": "markdown",
   "metadata": {},
   "source": [
    "### 4. Escreva uma função `sp :: [Int] -> [Int] -> Int` que calcule o produto escalar de duas listas (representando vetores) de tamanhos iguais.\n"
   ]
  },
  {
   "cell_type": "code",
   "execution_count": null,
   "metadata": {},
   "outputs": [],
   "source": [
    "sp :: [Int] -> [Int] -> Int\n",
    "sp u v = [(u !! i) * (v !! i) | i <- [0 .. (length u - 1)], j <- [0, 1, 2]]"
   ]
  }
 ],
 "metadata": {
  "kernelspec": {
   "display_name": "Haskell",
   "language": "haskell",
   "name": "haskell"
  },
  "language_info": {
   "name": "haskell"
  }
 },
 "nbformat": 4,
 "nbformat_minor": 2
}
