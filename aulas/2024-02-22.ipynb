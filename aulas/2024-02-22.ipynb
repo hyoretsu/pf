{
 "cells": [
  {
   "cell_type": "markdown",
   "metadata": {},
   "source": [
    "## Declarações de tipos\n",
    "\n",
    "### Declarações de sinônimos\n",
    "\n",
    "Podemos declarar sinônimos para tipos com o intuito de melhorar a legibilidade dos programas usando a direitva `type`:\n"
   ]
  },
  {
   "cell_type": "code",
   "execution_count": 1,
   "metadata": {},
   "outputs": [],
   "source": [
    "type Pos = (Int, Int)\n",
    "type Cells = [Pos]\n",
    "\n",
    "-- isAlive :: Cells -> Pos -> Bool"
   ]
  },
  {
   "cell_type": "markdown",
   "metadata": {},
   "source": [
    "Essa diretiva também aceita parâmetros (de tipo):\n"
   ]
  },
  {
   "cell_type": "code",
   "execution_count": 2,
   "metadata": {},
   "outputs": [],
   "source": [
    "type Mapping key value = [(key, value)]\n",
    "\n",
    "idades :: Mapping String Int\n",
    "idades = [(\"Pedro\", 41), (\"João\", 27), (\"Maria\", 19)]\n",
    "\n",
    "emails :: Mapping String String\n",
    "emails = [(\"Pedro\", \"pbv@dcc.fc.up.pt\"), (\"João\", \"joao@gmail.com\")]"
   ]
  },
  {
   "cell_type": "markdown",
   "metadata": {},
   "source": [
    "É possível compor tipos com outros tipos, mas não em casos de recursão\n"
   ]
  },
  {
   "cell_type": "code",
   "execution_count": 3,
   "metadata": {},
   "outputs": [],
   "source": [
    "-- type Tree = (Int, [Tree])"
   ]
  },
  {
   "cell_type": "markdown",
   "metadata": {},
   "source": [
    "### Declarações de novos tipos (de dados)\n",
    "\n",
    "Usaremos a diretiva `data`:\n"
   ]
  },
  {
   "cell_type": "code",
   "execution_count": 4,
   "metadata": {},
   "outputs": [],
   "source": [
    "data Bool = False | True"
   ]
  },
  {
   "cell_type": "markdown",
   "metadata": {},
   "source": [
    "Esta nova diretiva aceita definições recursivas:\n"
   ]
  },
  {
   "cell_type": "code",
   "execution_count": 5,
   "metadata": {},
   "outputs": [
    {
     "ename": "",
     "evalue": "",
     "output_type": "error",
     "traceback": [
      "<interactive>:1:13: error: [GHC-69639] Illegal binding of built-in syntax: []"
     ]
    }
   ],
   "source": [
    "data List = [] | Node Int List"
   ]
  },
  {
   "cell_type": "markdown",
   "metadata": {},
   "source": [
    "Podemos usá-los do mesmo jeito dos tipos pré-definidos na linguagem.\n"
   ]
  },
  {
   "cell_type": "code",
   "execution_count": 6,
   "metadata": {},
   "outputs": [],
   "source": [
    "data Direcao = Esquerda | Direita | Cima | Baixo\n",
    "\n",
    "direcoes :: [Direcao]\n",
    "direcoes = [Esquerda, Direita, Cima, Baixo]"
   ]
  },
  {
   "cell_type": "markdown",
   "metadata": {},
   "source": [
    "Assim como a diretiva `type`, ela também pode receber parâmetros:\n"
   ]
  },
  {
   "cell_type": "code",
   "execution_count": 7,
   "metadata": {},
   "outputs": [],
   "source": [
    "data Figura = Circ Float\n",
    "            | Rect Float Float\n",
    "\n",
    "quadrado :: Float -> Figura\n",
    "quadrado h = Rect h h"
   ]
  },
  {
   "cell_type": "markdown",
   "metadata": {},
   "source": [
    "Também podemos desconstruir variáveis/argumentos desses tipos em seus parâmetros:\n"
   ]
  },
  {
   "cell_type": "code",
   "execution_count": 8,
   "metadata": {},
   "outputs": [],
   "source": [
    "area :: Figura -> Float\n",
    "area (Circ r) = pi * r ^ 2\n",
    "area (Rect l a) = l * a"
   ]
  },
  {
   "cell_type": "markdown",
   "metadata": {},
   "source": [
    "Novos tipos não têm instâncias de classes como `Show`, `Eq` (`==`) ou `Ord`. Contudo, elas podem ter definições automáticas usando `deriving` na declaração:\n"
   ]
  },
  {
   "cell_type": "code",
   "execution_count": 9,
   "metadata": {},
   "outputs": [
    {
     "data": {
      "text/plain": [
       "\"Circ 2.0\""
      ]
     },
     "metadata": {},
     "output_type": "display_data"
    },
    {
     "data": {
      "text/plain": [
       "True"
      ]
     },
     "metadata": {},
     "output_type": "display_data"
    }
   ],
   "source": [
    "data Figura = Circ Float\n",
    "            | Rect Float Float\n",
    "            deriving (Eq, Show)\n",
    "\n",
    "show (Circ 2)\n",
    "\n",
    "Rect 1 (1 + 1) == Rect 1 2"
   ]
  },
  {
   "cell_type": "markdown",
   "metadata": {},
   "source": [
    "As declarações de novos tipos também podem ter parâmetros:\n"
   ]
  },
  {
   "cell_type": "code",
   "execution_count": 10,
   "metadata": {},
   "outputs": [],
   "source": [
    "data Maybe a = Nothing | Just a\n",
    "\n",
    "-- Podemos usá-la para definir uma divisão inteira que não dá erros\n",
    "safediv :: Int -> Int -> Maybe Int\n",
    "safediv _ 0 = Nothing\n",
    "safediv m n = Just (m `div` n)"
   ]
  }
 ],
 "metadata": {
  "kernelspec": {
   "display_name": "Haskell",
   "language": "haskell",
   "name": "haskell"
  },
  "language_info": {
   "codemirror_mode": "ihaskell",
   "file_extension": ".hs",
   "mimetype": "text/x-haskell",
   "name": "haskell",
   "pygments_lexer": "Haskell",
   "version": "9.6.4"
  }
 },
 "nbformat": 4,
 "nbformat_minor": 2
}
