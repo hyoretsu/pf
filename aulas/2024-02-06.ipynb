{
 "cells": [
  {
   "cell_type": "markdown",
   "metadata": {},
   "source": [
    "-   ## Funções recursivas\n"
   ]
  },
  {
   "cell_type": "code",
   "execution_count": null,
   "metadata": {},
   "outputs": [],
   "source": [
    "factorial :: Int -> Int\n",
    "-- Prelúdio: factorial n = product [1 .. n]\n",
    "\n",
    "-- Forma recursiva\n",
    "factorial 0 = 1\n",
    "factorial n = n * factorial (n - 1)"
   ]
  },
  {
   "cell_type": "markdown",
   "metadata": {},
   "source": [
    "Importante: o caso base deve vir antes dos casos recursivos.\n",
    "\n",
    "Também podemos definir algumas funções recursivas usando guardas ou condicionais:\n"
   ]
  },
  {
   "cell_type": "code",
   "execution_count": null,
   "metadata": {},
   "outputs": [],
   "source": [
    "-- Utilizando guardas\n",
    "factorial n | n == 0    = 1\n",
    "            | otherwise = n * factorial (n - 1)\n",
    "-- Utilizando condicionais\n",
    "factorial n = if n == 0 then 1 else n * factorial(n - 1)"
   ]
  },
  {
   "cell_type": "markdown",
   "metadata": {},
   "source": [
    "-   ### Recursão sobre listas\n"
   ]
  },
  {
   "cell_type": "code",
   "execution_count": null,
   "metadata": {},
   "outputs": [],
   "source": [
    "product [] = 1\n",
    "product (x:xs) x * product xs"
   ]
  },
  {
   "cell_type": "code",
   "execution_count": null,
   "metadata": {},
   "outputs": [],
   "source": [
    "length :: [a] -> Int\n",
    "length [] = 0\n",
    "length (_:xs) = 1 + length xs"
   ]
  },
  {
   "cell_type": "markdown",
   "metadata": {},
   "source": [
    "-   ### Funções recursivas com múltiplos argumentos\n"
   ]
  },
  {
   "cell_type": "code",
   "execution_count": null,
   "metadata": {},
   "outputs": [],
   "source": [
    "(++) :: [a] -> [a] -> [a]\n",
    "[] ++ ys = ys\n",
    "(x:xs) ++ ys = x : (xs ++ ys)"
   ]
  },
  {
   "cell_type": "code",
   "execution_count": null,
   "metadata": {},
   "outputs": [],
   "source": [
    "zip :: [a] -> [b] -> [(a, b)]\n",
    "zip [] _ = []\n",
    "zip _ [] = []\n",
    "zip (x : xs) (y : ys) = (x, y) : zip xs ys\n",
    "\n",
    "drop :: Int -> [a] -> [a]\n",
    "drop 0 xs = xs\n",
    "drop n [] = []\n",
    "drop n (x:xs) | n > 0 = drop (n - 1) xs"
   ]
  },
  {
   "cell_type": "markdown",
   "metadata": {},
   "source": [
    "-   ### Recursão mútua\n"
   ]
  },
  {
   "cell_type": "code",
   "execution_count": null,
   "metadata": {},
   "outputs": [],
   "source": [
    "par :: Int -> Bool\n",
    "par 0 = True\n",
    "par n | n > 0 = impar (n - 1)\n",
    "\n",
    "impar :: Int -> Bool\n",
    "impar 0 = False\n",
    "impar n | n > 0 = par (n - 1)"
   ]
  }
 ],
 "metadata": {
  "kernelspec": {
   "display_name": "Haskell",
   "language": "haskell",
   "name": "haskell"
  },
  "language_info": {
   "name": "haskell"
  }
 },
 "nbformat": 4,
 "nbformat_minor": 2
}
