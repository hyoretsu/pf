{
 "cells": [
  {
   "cell_type": "markdown",
   "metadata": {},
   "source": [
    "## Tipos abstratos de dados\n",
    "\n",
    "### Pilha (LIFO, Last in, first out)\n",
    "\n",
    "-   push\n",
    "-   pop\n",
    "-   top\n",
    "-   empty\n",
    "-   isEmpty\n"
   ]
  },
  {
   "cell_type": "code",
   "execution_count": null,
   "metadata": {},
   "outputs": [],
   "source": [
    "import Stack\n",
    "\n",
    "parent :: String -> Bool\n",
    "parent str = parentAux str empty\n",
    "\n",
    "parentAux :: String -> Stack Char -> Bool\n",
    "parentAux [] stk =  isEmpty stk\n",
    "parentAux (x:xs) stk\n",
    "| x == '(' = parentAux xs (push '(' stk )\n",
    "| x == ')' = not (isEmpty stk) && top stk == '(' && parentAux xs (pop stk)\n",
    "|otherwise = parentAux xs stk"
   ]
  },
  {
   "cell_type": "markdown",
   "metadata": {},
   "source": [
    "### Conjuntos\n",
    "\n",
    "-   member (testar se um elemento pertence a um conjunto)\n",
    "-   insert (acrescentar um elemento a um conjunto)\n",
    "-   delete (remover um elemento de um conjunto)\n",
    "-   union\n",
    "-   intersection\n",
    "-   empty\n",
    "-   isEmpty\n",
    "-   toList\n",
    "-   fromList\n"
   ]
  },
  {
   "cell_type": "markdown",
   "metadata": {},
   "source": [
    "### Tabelas de associações (Map)\n",
    "\n",
    "-   insert (inserir uma nova chave e valor)\n",
    "-   delete (remover uma chave caso exista)\n",
    "-   lookup (procurar valor usando uma chave)\n",
    "-   empty (tabela vazia)\n",
    "-   fromList (consturir a partir de uma lista de pares)\n",
    "-   toList (listar os pares)\n"
   ]
  },
  {
   "cell_type": "markdown",
   "metadata": {},
   "source": [
    "## Nomes\n",
    "\n",
    "Podemos juntar todas as funções de um módulo sob um mesmo _namespace_ usando a palavra reservada `qualified`. Isso pode evitar conflitos de nomeações entre módulos.\n",
    "\n",
    "Ex:\n",
    "\n",
    "```\n",
    "import qualified Map\n",
    "```\n"
   ]
  }
 ],
 "metadata": {
  "kernelspec": {
   "display_name": "Haskell",
   "language": "haskell",
   "name": "haskell"
  },
  "language_info": {
   "name": "haskell"
  }
 },
 "nbformat": 4,
 "nbformat_minor": 2
}
