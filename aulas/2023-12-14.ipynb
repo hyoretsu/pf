{
 "cells": [
  {
   "cell_type": "markdown",
   "metadata": {},
   "source": [
    "-   ## Sequências\n",
    "\n",
    "Para criar uma sequência:\n"
   ]
  },
  {
   "cell_type": "code",
   "execution_count": 1,
   "metadata": {},
   "outputs": [
    {
     "data": {
      "text/plain": [
       "[1,2,3,4,5,6,7,8,9,10]"
      ]
     },
     "metadata": {},
     "output_type": "display_data"
    }
   ],
   "source": [
    "list = [1 .. 10]\n",
    "print list"
   ]
  },
  {
   "cell_type": "markdown",
   "metadata": {},
   "source": [
    "Isso é equivalente a criar uma lista [1, 2, 3, 4, 5, 6, 7, 8, 9, 10].\n",
    "\n",
    "Para criar uma sequência com salto, defina os dois primeiros números e o limite da sequência:\n"
   ]
  },
  {
   "cell_type": "code",
   "execution_count": 2,
   "metadata": {},
   "outputs": [
    {
     "data": {
      "text/plain": [
       "[1,3,5,7,9]"
      ]
     },
     "metadata": {},
     "output_type": "display_data"
    }
   ],
   "source": [
    "list = [1, 3 .. 9] -- 1, 3, 5, 7, 9\n",
    "print list"
   ]
  },
  {
   "cell_type": "markdown",
   "metadata": {},
   "source": [
    "Haskell também tem suporte a sequências infinitas. Isso é possível porque ela só evalua as expressões quando elas realmente precisam ser usadas.\n"
   ]
  },
  {
   "cell_type": "code",
   "execution_count": 3,
   "metadata": {},
   "outputs": [],
   "source": [
    "infList = [1, 3 ..]"
   ]
  },
  {
   "cell_type": "markdown",
   "metadata": {},
   "source": [
    "Isso é apenas isso. Quando chamamos outra expressão que usa elementos dessa lista infinita, então ela é evaluada apenas para os valores que precisarmos (nesse caso os 10 primeiros).\n"
   ]
  },
  {
   "cell_type": "code",
   "execution_count": 4,
   "metadata": {},
   "outputs": [
    {
     "data": {
      "text/plain": [
       "[1,3,5,7,9,11,13,15,17,19]"
      ]
     },
     "metadata": {},
     "output_type": "display_data"
    }
   ],
   "source": [
    "take 10 infList"
   ]
  },
  {
   "cell_type": "markdown",
   "metadata": {},
   "source": [
    "-   ## Geradores\n",
    "\n",
    "Têm o format `var <- list`. Podem ser usados para o famoso _list comprehension_, gerar uma lista usando uma função ou equação:\n"
   ]
  },
  {
   "cell_type": "code",
   "execution_count": 5,
   "metadata": {},
   "outputs": [
    {
     "data": {
      "text/plain": [
       "[1,4,9,16,25]"
      ]
     },
     "metadata": {},
     "output_type": "display_data"
    }
   ],
   "source": [
    "comprehendedList = [x ^ 2 | x <- [1, 2, 3, 4, 5]] -- x² para cada x dentro da lista [1 .. 5]\n",
    "print comprehendedList"
   ]
  },
  {
   "cell_type": "markdown",
   "metadata": {},
   "source": [
    "Também podemos usar geradores para tuplas. O exemplo a seguir irá gerar todos os pares possíveis de tuplas de 2:\n"
   ]
  },
  {
   "cell_type": "code",
   "execution_count": 6,
   "metadata": {},
   "outputs": [
    {
     "data": {
      "text/plain": [
       "[(1,4),(1,5),(2,4),(2,5),(3,4),(3,5)]"
      ]
     },
     "metadata": {},
     "output_type": "display_data"
    }
   ],
   "source": [
    "genList = [(x, y) | x <- [1, 2, 3], y <- [4, 5]]\n",
    "print genList"
   ]
  },
  {
   "cell_type": "markdown",
   "metadata": {},
   "source": [
    "Também podemos criar um gerador com valores baseados em outros gerados:\n"
   ]
  },
  {
   "cell_type": "code",
   "execution_count": 7,
   "metadata": {},
   "outputs": [
    {
     "data": {
      "text/plain": [
       "[(1,1),(1,2),(1,3),(2,2),(2,3),(3,3)]"
      ]
     },
     "metadata": {},
     "output_type": "display_data"
    }
   ],
   "source": [
    "genList = [(x, y) | x <- [1 .. 3], y <- [x .. 3]]\n",
    "print genList"
   ]
  },
  {
   "cell_type": "markdown",
   "metadata": {},
   "source": [
    "Neste caso, a ordem importa. O seguinte código não irá funcionar, pois a variável `x` ainda não foi declarada:\n"
   ]
  },
  {
   "cell_type": "code",
   "execution_count": 8,
   "metadata": {},
   "outputs": [
    {
     "ename": "",
     "evalue": "",
     "output_type": "error",
     "traceback": [
      "<interactive>:1:27: error: Variable not in scope: x"
     ]
    }
   ],
   "source": [
    "genList = [(x, y) | y <- [x .. 3], x <- [1 .. 3]]"
   ]
  },
  {
   "cell_type": "markdown",
   "metadata": {},
   "source": [
    "Uma função chamada `concat`, do prelúdio padrão, que concatena uma lista de listas, exemplificada a seguir:\n"
   ]
  },
  {
   "cell_type": "code",
   "execution_count": 9,
   "metadata": {},
   "outputs": [
    {
     "data": {
      "text/plain": [
       "[1,2,3,4,5,6,7]"
      ]
     },
     "metadata": {},
     "output_type": "display_data"
    }
   ],
   "source": [
    "flattenedList = Prelude.concat [[1, 2, 3], [4, 5], [6, 7]] -- Parecido com o conceito de flattening\n",
    "print flattenedList"
   ]
  },
  {
   "cell_type": "markdown",
   "metadata": {},
   "source": [
    "Pode ser re-escrita utilizando _list comprehension_ com geradores:\n"
   ]
  },
  {
   "cell_type": "code",
   "execution_count": 10,
   "metadata": {},
   "outputs": [
    {
     "data": {
      "text/plain": [
       "[1,2,3,4,5,6,7]"
      ]
     },
     "metadata": {},
     "output_type": "display_data"
    }
   ],
   "source": [
    "concat :: [[a]] -> [a]\n",
    "concat listas = [valor | lista <- listas, valor <- lista] -- Parecido com for dentro de for\n",
    "\n",
    "flattenedList = concat [[1, 2, 3], [4, 5], [6, 7]]\n",
    "print flattenedList"
   ]
  },
  {
   "cell_type": "markdown",
   "metadata": {},
   "source": [
    "Tambem podemos definir as chamadas \"guardas\" para geradores, que nada mais são que filtros ou condições:\n"
   ]
  },
  {
   "cell_type": "code",
   "execution_count": 11,
   "metadata": {},
   "outputs": [
    {
     "data": {
      "text/html": [
       "<style>/* Styles used for the Hoogle display in the pager */\n",
       ".hoogle-doc {\n",
       "display: block;\n",
       "padding-bottom: 1.3em;\n",
       "padding-left: 0.4em;\n",
       "}\n",
       ".hoogle-code {\n",
       "display: block;\n",
       "font-family: monospace;\n",
       "white-space: pre;\n",
       "}\n",
       ".hoogle-text {\n",
       "display: block;\n",
       "}\n",
       ".hoogle-name {\n",
       "color: green;\n",
       "font-weight: bold;\n",
       "}\n",
       ".hoogle-head {\n",
       "font-weight: bold;\n",
       "}\n",
       ".hoogle-sub {\n",
       "display: block;\n",
       "margin-left: 0.4em;\n",
       "}\n",
       ".hoogle-package {\n",
       "font-weight: bold;\n",
       "font-style: italic;\n",
       "}\n",
       ".hoogle-module {\n",
       "font-weight: bold;\n",
       "}\n",
       ".hoogle-class {\n",
       "font-weight: bold;\n",
       "}\n",
       "\n",
       ".get-type {\n",
       "color: green;\n",
       "font-weight: bold;\n",
       "font-family: monospace;\n",
       "display: block;\n",
       "white-space: pre-wrap;\n",
       "}\n",
       ".show-type {\n",
       "color: green;\n",
       "font-weight: bold;\n",
       "font-family: monospace;\n",
       "margin-left: 1em;\n",
       "}\n",
       ".mono {\n",
       "font-family: monospace;\n",
       "display: block;\n",
       "}\n",
       ".err-msg {\n",
       "color: red;\n",
       "font-style: italic;\n",
       "font-family: monospace;\n",
       "white-space: pre;\n",
       "display: block;\n",
       "}\n",
       "#unshowable {\n",
       "color: red;\n",
       "font-weight: bold;\n",
       "}\n",
       ".err-msg.in.collapse {\n",
       "padding-top: 0.7em;\n",
       "}\n",
       "\n",
       ".highlight-code {\n",
       "white-space: pre;\n",
       "font-family: monospace;\n",
       "}\n",
       "\n",
       ".suggestion-warning { \n",
       "font-weight: bold;\n",
       "color: rgb(200, 130, 0);\n",
       "}\n",
       ".suggestion-error { \n",
       "font-weight: bold;\n",
       "color: red;\n",
       "}\n",
       ".suggestion-name {\n",
       "font-weight: bold;\n",
       "}\n",
       "\n",
       "</style><div class=\"suggestion-name\" style=\"clear:both;\">Use even</div><div class=\"suggestion-row\" style=\"float: left;\"><div class=\"suggestion-warning\">Found:</div><div class=\"highlight-code\" id=\"haskell\">x `mod` 2 == 0</div></div><div class=\"suggestion-row\" style=\"float: left;\"><div class=\"suggestion-warning\">Why Not:</div><div class=\"highlight-code\" id=\"haskell\">even x</div></div>"
      ],
      "text/plain": [
       "Line 1: Use even\n",
       "Found:\n",
       "x `mod` 2 == 0\n",
       "Why not:\n",
       "even x"
      ]
     },
     "metadata": {},
     "output_type": "display_data"
    },
    {
     "data": {
      "text/plain": [
       "[2,4,6,8,10]"
      ]
     },
     "metadata": {},
     "output_type": "display_data"
    }
   ],
   "source": [
    "guardedList = [x | x <- [1 .. 10], x `mod` 2 == 0] -- Gere números de 1 a 10, mas apenas os pares\n",
    "print guardedList"
   ]
  },
  {
   "cell_type": "markdown",
   "metadata": {},
   "source": [
    "Podemos também definir uma série de guardas com operadores e funções para, por exemplo, criar uma função que lista os números primos até um número `x`:\n"
   ]
  },
  {
   "cell_type": "code",
   "execution_count": 12,
   "metadata": {},
   "outputs": [
    {
     "data": {
      "text/plain": [
       "[2,3,5,7,11,13,17,19,23,29,31,37,41,43,47]"
      ]
     },
     "metadata": {},
     "output_type": "display_data"
    }
   ],
   "source": [
    "divisors :: Int -> [Int]\n",
    "divisors n = [x | x <- [1 .. n], n `mod` x == 0]\n",
    "\n",
    "isPrime :: Int -> Bool\n",
    "isPrime n = divisors n == [1, n]\n",
    "\n",
    "primeNumbers :: Int -> [Int]\n",
    "primeNumbers n = [x | x <- [2 .. n], isPrime x]\n",
    "\n",
    "print (primeNumbers 50)"
   ]
  },
  {
   "cell_type": "markdown",
   "metadata": {},
   "source": [
    "-   ## Função `zip`\n",
    "\n",
    "Ela combina duas listas em tuplas (limitado à de menor número). Ex:\n"
   ]
  },
  {
   "cell_type": "code",
   "execution_count": 13,
   "metadata": {},
   "outputs": [
    {
     "data": {
      "text/plain": [
       "[('a',1),('b',2),('c',3)]"
      ]
     },
     "metadata": {},
     "output_type": "display_data"
    }
   ],
   "source": [
    "tupledList = zip ['a', 'b', 'c'] [1, 2, 3, 4] -- Equivalente: zip \"abc\" [1, 2, 3, 4]\n",
    "print tupledList"
   ]
  },
  {
   "cell_type": "markdown",
   "metadata": {},
   "source": [
    "Podemos criar funções mais complexas com ela, como por exemplo procurar índices de um valor em uma lista:\n"
   ]
  },
  {
   "cell_type": "code",
   "execution_count": 14,
   "metadata": {},
   "outputs": [
    {
     "data": {
      "text/plain": [
       "[1,3,5]"
      ]
     },
     "metadata": {},
     "output_type": "display_data"
    }
   ],
   "source": [
    "indexesOf :: (Eq a) => a -> [a] -> [Int]\n",
    "indexesOf x ys = [i | (y, i) <- zip ys [0 .. n], x == y] where n = length ys - 1 -- Junta em tuplas os valores da lista com seus índices (length ys - 1), checa a guarda que os valores são iguais a 'x' e retorna o índice dos resultados\n",
    "\n",
    "print (indexesOf 'a' ['b', 'a', 'n', 'a', 'n', 'a'])"
   ]
  },
  {
   "cell_type": "markdown",
   "metadata": {},
   "source": [
    "Ou combiná-la com a função `tail` e listar pares de elementos consecutivos:\n"
   ]
  },
  {
   "cell_type": "code",
   "execution_count": 15,
   "metadata": {},
   "outputs": [
    {
     "data": {
      "text/plain": [
       "[(1,2),(2,3),(3,4)]"
      ]
     },
     "metadata": {},
     "output_type": "display_data"
    }
   ],
   "source": [
    "consecutivePairs :: [a] -> [(a, a)]\n",
    "consecutivePairs xs = zip xs (tail xs)\n",
    "\n",
    "print (consecutivePairs [1, 2, 3, 4]) -- Passar uma lista vazia [] resultará em erro, pois a função 'tail' é do formato (x:xs)"
   ]
  },
  {
   "cell_type": "markdown",
   "metadata": {},
   "source": [
    "Também podemos contar o número de elementos consecutivos iguais:\n"
   ]
  },
  {
   "cell_type": "code",
   "execution_count": 16,
   "metadata": {},
   "outputs": [
    {
     "data": {
      "text/plain": [
       "2"
      ]
     },
     "metadata": {},
     "output_type": "display_data"
    }
   ],
   "source": [
    "sameConsecutiveNumbersCount :: (Eq a) => [a] -> Int\n",
    "sameConsecutiveNumbersCount xs = length [(x, x') | (x, x') <- zip xs (tail xs), x == x']\n",
    "\n",
    "print (sameConsecutiveNumbersCount [1, 1, 2, 2, 3])"
   ]
  },
  {
   "cell_type": "markdown",
   "metadata": {},
   "source": [
    "Esta é a definição de uma função unzip, que recebe um array de tuplas de 2 e retorna uma tupla de arrays:\n"
   ]
  },
  {
   "cell_type": "code",
   "execution_count": 17,
   "metadata": {},
   "outputs": [
    {
     "data": {
      "text/plain": [
       "(\"abc\",[1,2,3])"
      ]
     },
     "metadata": {},
     "output_type": "display_data"
    }
   ],
   "source": [
    "unzip :: [(x, y)] -> ([x], [y])\n",
    "unzip zippedList = ([x | (x, y) <- zippedList], [y | (x, y) <- zippedList])\n",
    "\n",
    "print (unzip tupledList)"
   ]
  },
  {
   "cell_type": "markdown",
   "metadata": {},
   "source": [
    "-   ## Módulos\n",
    "\n",
    "Lugar de funções mais especializadas para tratar de dados, que não estão incluídas por padrão no Prelúdio. Para usar essas funções, devemos importar seu respectivo módulo:\n"
   ]
  },
  {
   "cell_type": "code",
   "execution_count": 18,
   "metadata": {},
   "outputs": [],
   "source": [
    "import Data.Char -- isUpper, isLower, isLetter, toUpper, toLower"
   ]
  },
  {
   "cell_type": "markdown",
   "metadata": {},
   "source": [
    "Podemos criar funções mais poderosas com menos esforço através delas, como contagem de letras:\n"
   ]
  },
  {
   "cell_type": "code",
   "execution_count": 19,
   "metadata": {},
   "outputs": [
    {
     "data": {
      "text/plain": [
       "4"
      ]
     },
     "metadata": {},
     "output_type": "display_data"
    }
   ],
   "source": [
    "countLetters :: String -> Int\n",
    "countLetters xs = length [x | x <- xs, isLetter x]\n",
    "\n",
    "print (countLetters \"alo123b\")"
   ]
  },
  {
   "cell_type": "markdown",
   "metadata": {},
   "source": [
    "E conversão de uma string para maiúsculo:\n"
   ]
  },
  {
   "cell_type": "code",
   "execution_count": 20,
   "metadata": {},
   "outputs": [
    {
     "data": {
      "text/plain": [
       "\"MINUSCULO\""
      ]
     },
     "metadata": {},
     "output_type": "display_data"
    }
   ],
   "source": [
    "strToUpper :: String -> String\n",
    "strToUpper xs = [toUpper x | x <- xs]\n",
    "\n",
    "print (strToUpper \"minusculo\")"
   ]
  }
 ],
 "metadata": {
  "kernelspec": {
   "display_name": "Haskell",
   "language": "haskell",
   "name": "haskell"
  },
  "language_info": {
   "codemirror_mode": "ihaskell",
   "file_extension": ".hs",
   "mimetype": "text/x-haskell",
   "name": "haskell",
   "pygments_lexer": "Haskell",
   "version": "9.4.7"
  },
  "orig_nbformat": 4
 },
 "nbformat": 4,
 "nbformat_minor": 2
}
